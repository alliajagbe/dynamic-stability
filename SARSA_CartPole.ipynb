{
  "nbformat": 4,
  "nbformat_minor": 0,
  "metadata": {
    "colab": {
      "provenance": []
    },
    "kernelspec": {
      "name": "python3",
      "display_name": "Python 3"
    },
    "language_info": {
      "name": "python"
    }
  },
  "cells": [
    {
      "cell_type": "code",
      "source": [
        "import gym\n",
        "import numpy as np\n",
        "import math\n",
        "import matplotlib.pyplot as plt"
      ],
      "metadata": {
        "id": "-BEZ14mESfic"
      },
      "execution_count": 1,
      "outputs": []
    },
    {
      "cell_type": "code",
      "source": [
        "env = gym.make(\"CartPole-v0\")"
      ],
      "metadata": {
        "colab": {
          "base_uri": "https://localhost:8080/"
        },
        "id": "VYt_C62sZkOK",
        "outputId": "d2b4d9f8-6816-458e-9e95-1fd998bc41a4"
      },
      "execution_count": 2,
      "outputs": [
        {
          "output_type": "stream",
          "name": "stderr",
          "text": [
            "/usr/local/lib/python3.10/dist-packages/gym/envs/registration.py:593: UserWarning: \u001b[33mWARN: The environment CartPole-v0 is out of date. You should consider upgrading to version `v1`.\u001b[0m\n",
            "  logger.warn(\n",
            "/usr/local/lib/python3.10/dist-packages/gym/core.py:317: DeprecationWarning: \u001b[33mWARN: Initializing wrapper in old step API which returns one bool instead of two. It is recommended to set `new_step_api=True` to use new step API. This will be the default behaviour in future.\u001b[0m\n",
            "  deprecation(\n",
            "/usr/local/lib/python3.10/dist-packages/gym/wrappers/step_api_compatibility.py:39: DeprecationWarning: \u001b[33mWARN: Initializing environment in old step API which returns one bool instead of two. It is recommended to set `new_step_api=True` to use new step API. This will be the default behaviour in future.\u001b[0m\n",
            "  deprecation(\n"
          ]
        }
      ]
    },
    {
      "cell_type": "code",
      "source": [
        "#Environment values\n",
        "print(env.observation_space.high)\n",
        "print(env.observation_space.low)\n",
        "print(env.action_space.n)"
      ],
      "metadata": {
        "colab": {
          "base_uri": "https://localhost:8080/"
        },
        "id": "MlBY_kQaZnMn",
        "outputId": "31c5e0b3-f476-4498-d2c1-b3e82c4b08f8"
      },
      "execution_count": 3,
      "outputs": [
        {
          "output_type": "stream",
          "name": "stdout",
          "text": [
            "[4.8000002e+00 3.4028235e+38 4.1887903e-01 3.4028235e+38]\n",
            "[-4.8000002e+00 -3.4028235e+38 -4.1887903e-01 -3.4028235e+38]\n",
            "2\n"
          ]
        }
      ]
    },
    {
      "cell_type": "code",
      "source": [
        "#Hyperparamters\n",
        "EPISODES = 10000\n",
        "DISCOUNT = 0.95\n",
        "EPISODE_DISPLAY = 500\n",
        "LEARNING_RATE = 0.25\n",
        "EPSILON = 0.2"
      ],
      "metadata": {
        "id": "dvU4WniSZqPi"
      },
      "execution_count": 5,
      "outputs": []
    },
    {
      "cell_type": "code",
      "source": [
        "#Q-Table of size theta_state_size*theta_dot_state_size*env.action_space.n\n",
        "theta_minmax = env.observation_space.high[2]\n",
        "theta_dot_minmax = math.radians(50)\n",
        "theta_state_size = 50\n",
        "theta_dot_state_size = 50\n",
        "Q_TABLE = np.random.randn(theta_state_size,theta_dot_state_size,env.action_space.n)"
      ],
      "metadata": {
        "id": "P1tkLoH6ZqL9"
      },
      "execution_count": 6,
      "outputs": []
    },
    {
      "cell_type": "code",
      "source": [
        "# For stats\n",
        "ep_rewards = []\n",
        "ep_rewards_table = {'ep': [], 'avg': [], 'min': [], 'max': []}"
      ],
      "metadata": {
        "id": "uys_02_9Z03P"
      },
      "execution_count": 7,
      "outputs": []
    },
    {
      "cell_type": "code",
      "source": [
        "def discretised_state(state):\n",
        "\t#state[2] -> theta\n",
        "\t#state[3] -> theta_dot\n",
        "\tdiscrete_state = np.array([0,0])\t\t#Initialised discrete array\n",
        "\ttheta_window =  ( theta_minmax - (-theta_minmax) ) / theta_state_size\n",
        "\tdiscrete_state[0] = ( state[2] - (-theta_minmax) ) // theta_window\n",
        "\tdiscrete_state[0] = min(theta_state_size-1, max(0,discrete_state[0]))\n",
        "\n",
        "\ttheta_dot_window =  ( theta_dot_minmax - (-theta_dot_minmax) )/ theta_dot_state_size\n",
        "\tdiscrete_state[1] = ( state[3] - (-theta_dot_minmax) ) // theta_dot_window\n",
        "\tdiscrete_state[1] = min(theta_dot_state_size-1, max(0,discrete_state[1]))\n",
        "\n",
        "\treturn tuple(discrete_state.astype(int))"
      ],
      "metadata": {
        "id": "6cmIVkASZ3TD"
      },
      "execution_count": 8,
      "outputs": []
    },
    {
      "cell_type": "code",
      "source": [
        "for episode in range(EPISODES):\n",
        "\tepisode_reward = 0\n",
        "\tdone = False\n",
        "\n",
        "\tif episode % EPISODE_DISPLAY == 0:\n",
        "\t\trender_state = True\n",
        "\telse:\n",
        "\t\trender_state = False\n",
        "\n",
        "\tcurr_discrete_state = discretised_state(env.reset())\n",
        "\tif np.random.random() > EPSILON:\n",
        "\t\taction = np.argmax(Q_TABLE[curr_discrete_state])\n",
        "\telse:\n",
        "\t\taction = np.random.randint(0, env.action_space.n)\n",
        "\n",
        "\twhile not done:\n",
        "\t\tnew_state, reward, done, _ = env.step(action)\n",
        "\t\tnew_discrete_state = discretised_state(new_state)\n",
        "\n",
        "\t\tif np.random.random() > EPSILON:\n",
        "\t\t\tnew_action = np.argmax(Q_TABLE[new_discrete_state])\n",
        "\t\telse:\n",
        "\t\t\tnew_action = np.random.randint(0, env.action_space.n)\n",
        "\n",
        "\t\tif render_state:\n",
        "\t\t\tenv.render()\n",
        "\n",
        "\t\tif not done:\n",
        "\t\t\tcurrent_q = Q_TABLE[curr_discrete_state+(action,)]\n",
        "\t\t\tmax_future_q = Q_TABLE[new_discrete_state+(new_action,)]\n",
        "\t\t\tnew_q = current_q + LEARNING_RATE*(reward+DISCOUNT*max_future_q-current_q)\n",
        "\t\t\tQ_TABLE[curr_discrete_state+(action,)]=new_q\n",
        "\n",
        "\t\tcurr_discrete_state = new_discrete_state\n",
        "\t\taction = new_action\n",
        "\n",
        "\t\tepisode_reward += reward\n",
        "\n",
        "\tep_rewards.append(episode_reward)\n",
        "\n",
        "\tif not episode % EPISODE_DISPLAY:\n",
        "\t\tavg_reward = sum(ep_rewards[-EPISODE_DISPLAY:])/len(ep_rewards[-EPISODE_DISPLAY:])\n",
        "\t\tep_rewards_table['ep'].append(episode)\n",
        "\t\tep_rewards_table['avg'].append(avg_reward)\n",
        "\t\tep_rewards_table['min'].append(min(ep_rewards[-EPISODE_DISPLAY:]))\n",
        "\t\tep_rewards_table['max'].append(max(ep_rewards[-EPISODE_DISPLAY:]))\n",
        "\t\tprint(f\"Episode:{episode} avg:{avg_reward} min:{min(ep_rewards[-EPISODE_DISPLAY:])} max:{max(ep_rewards[-EPISODE_DISPLAY:])}\")"
      ],
      "metadata": {
        "colab": {
          "base_uri": "https://localhost:8080/"
        },
        "id": "-ziANGQIZ6Ir",
        "outputId": "14dd048c-3123-41cc-a625-3f56bd692564"
      },
      "execution_count": 9,
      "outputs": [
        {
          "output_type": "stream",
          "name": "stderr",
          "text": [
            "/usr/local/lib/python3.10/dist-packages/gym/utils/passive_env_checker.py:241: DeprecationWarning: `np.bool8` is a deprecated alias for `np.bool_`.  (Deprecated NumPy 1.24)\n",
            "  if not isinstance(terminated, (bool, np.bool8)):\n",
            "/usr/local/lib/python3.10/dist-packages/gym/core.py:49: DeprecationWarning: \u001b[33mWARN: You are calling render method, but you didn't specified the argument render_mode at environment initialization. To maintain backward compatibility, the environment will render in human mode.\n",
            "If you want to render in human mode, initialize the environment in this way: gym.make('EnvName', render_mode='human') and don't call the render method.\n",
            "See here for more information: https://www.gymlibrary.ml/content/api/\u001b[0m\n",
            "  deprecation(\n"
          ]
        },
        {
          "output_type": "stream",
          "name": "stdout",
          "text": [
            "Episode:0 avg:27.0 min:27.0 max:27.0\n",
            "Episode:500 avg:19.916 min:8.0 max:65.0\n",
            "Episode:1000 avg:18.43 min:8.0 max:70.0\n",
            "Episode:1500 avg:20.738 min:8.0 max:69.0\n",
            "Episode:2000 avg:25.026 min:8.0 max:152.0\n",
            "Episode:2500 avg:32.38 min:8.0 max:200.0\n",
            "Episode:3000 avg:47.062 min:8.0 max:200.0\n",
            "Episode:3500 avg:68.1 min:8.0 max:200.0\n",
            "Episode:4000 avg:71.618 min:8.0 max:200.0\n",
            "Episode:4500 avg:105.974 min:8.0 max:200.0\n",
            "Episode:5000 avg:119.742 min:9.0 max:200.0\n",
            "Episode:5500 avg:125.45 min:9.0 max:200.0\n",
            "Episode:6000 avg:139.16 min:9.0 max:200.0\n",
            "Episode:6500 avg:147.548 min:10.0 max:200.0\n",
            "Episode:7000 avg:153.016 min:11.0 max:200.0\n",
            "Episode:7500 avg:151.95 min:12.0 max:200.0\n",
            "Episode:8000 avg:160.324 min:8.0 max:200.0\n",
            "Episode:8500 avg:168.378 min:16.0 max:200.0\n",
            "Episode:9000 avg:164.108 min:8.0 max:200.0\n",
            "Episode:9500 avg:170.508 min:8.0 max:200.0\n"
          ]
        }
      ]
    },
    {
      "cell_type": "code",
      "source": [
        "env.close()"
      ],
      "metadata": {
        "id": "bHY1pIZZaDFe"
      },
      "execution_count": 10,
      "outputs": []
    },
    {
      "cell_type": "code",
      "source": [
        "plt.plot(ep_rewards_table['ep'], ep_rewards_table['avg'], label=\"avg\")\n",
        "plt.plot(ep_rewards_table['ep'], ep_rewards_table['min'], label=\"min\")\n",
        "plt.plot(ep_rewards_table['ep'], ep_rewards_table['max'], label=\"max\")\n",
        "plt.legend(loc=4) #bottom right\n",
        "plt.title('CartPole SARSA')\n",
        "plt.ylabel('Average reward/Episode')\n",
        "plt.xlabel('Episodes')\n",
        "plt.show()"
      ],
      "metadata": {
        "colab": {
          "base_uri": "https://localhost:8080/",
          "height": 472
        },
        "id": "ORiV_RZjaLz7",
        "outputId": "b8a9c5fd-e460-4903-f41b-9c8e0e5c57e3"
      },
      "execution_count": 11,
      "outputs": [
        {
          "output_type": "display_data",
          "data": {
            "text/plain": [
              "<Figure size 640x480 with 1 Axes>"
            ],
            "image/png": "[encoded data removed]"
          },
          "metadata": {}
        }
      ]
    }
  ]
}